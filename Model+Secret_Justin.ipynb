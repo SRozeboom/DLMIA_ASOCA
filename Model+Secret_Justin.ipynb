{
 "cells": [
  {
   "cell_type": "markdown",
   "id": "46abdf9d-fafd-4a74-8ed9-f12d215b6912",
   "metadata": {
    "tags": [],
    "user_expressions": []
   },
   "source": [
    "## 1 - Import packages"
   ]
  },
  {
   "cell_type": "code",
   "execution_count": 3,
   "id": "12b41548-ea71-4338-b248-e9ca2c141acf",
   "metadata": {
    "tags": []
   },
   "outputs": [
    {
     "name": "stderr",
     "output_type": "stream",
     "text": [
      "2025-04-06 21:28:50.291014: I tensorflow/core/util/port.cc:111] oneDNN custom operations are on. You may see slightly different numerical results due to floating-point round-off errors from different computation orders. To turn them off, set the environment variable `TF_ENABLE_ONEDNN_OPTS=0`.\n",
      "2025-04-06 21:28:50.329888: E tensorflow/compiler/xla/stream_executor/cuda/cuda_dnn.cc:9342] Unable to register cuDNN factory: Attempting to register factory for plugin cuDNN when one has already been registered\n",
      "2025-04-06 21:28:50.329907: E tensorflow/compiler/xla/stream_executor/cuda/cuda_fft.cc:609] Unable to register cuFFT factory: Attempting to register factory for plugin cuFFT when one has already been registered\n",
      "2025-04-06 21:28:50.329946: E tensorflow/compiler/xla/stream_executor/cuda/cuda_blas.cc:1518] Unable to register cuBLAS factory: Attempting to register factory for plugin cuBLAS when one has already been registered\n",
      "2025-04-06 21:28:50.338620: I tensorflow/core/platform/cpu_feature_guard.cc:182] This TensorFlow binary is optimized to use available CPU instructions in performance-critical operations.\n",
      "To enable the following instructions: AVX2 AVX512F AVX512_VNNI FMA, in other operations, rebuild TensorFlow with the appropriate compiler flags.\n",
      "2025-04-06 21:28:51.507850: W tensorflow/compiler/tf2tensorrt/utils/py_utils.cc:38] TF-TRT Warning: Could not find TensorRT\n"
     ]
    }
   ],
   "source": [
    "#!pip install tensorflow[and-cuda] torch numpy wandb matplotlib monai pillow pynrrd\n",
    "#!jupyter serverextension enable --py nbresuse #extension that displays the resources/computational power that are used by the notebook\n",
    "#!jupyter labextension install @jupyterlab/statusbar #extension that adds a progressbar so monitoring the upload is posible\n",
    "\n",
    "import tensorflow as tf\n",
    "from tensorflow.keras.models import Model\n",
    "from tensorflow.keras.layers import Conv2D, MaxPooling2D, Conv2DTranspose, concatenate, Input\n",
    "import torch\n",
    "import plotly.graph_objects as go\n",
    "import os\n",
    "import numpy as np\n",
    "import wandb\n",
    "import matplotlib.pyplot as plt\n",
    "import glob\n",
    "import monai\n",
    "import random\n",
    "from PIL import Image\n",
    "import nrrd\n",
    "from monai.transforms import ToMetaTensord\n",
    "from torch.utils.data import Dataset\n",
    "from monai.transforms.transform import Transform\n",
    "from monai.data.dataloader import DataLoader\n",
    "from monai.networks.nets import UNet\n",
    "from monai.networks.nets import DynUNet\n",
    "from monai.data import DataLoader, CacheDataset\n",
    "from monai.transforms import (\n",
    "    Compose, \n",
    "    RandRotate, \n",
    "    Resize, \n",
    "    ToTensor, \n",
    "    EnsureType, \n",
    "    LoadImage, \n",
    "    EnsureChannelFirstd, \n",
    "    ScaleIntensityd,\n",
    "    RandSpatialCropd,\n",
    "    RandCropByPosNegLabeld,\n",
    "    Pad, \n",
    "    Resized, \n",
    "    RandRotated,\n",
    "    MapTransform,\n",
    "    Spacingd,\n",
    "    CenterSpatialCropd,\n",
    "    EnsureTyped\n",
    ")\n",
    "from monai.losses import DiceLoss, FocalLoss, DiceCELoss, SoftclDiceLoss\n",
    "from monai.optimizers import Novograd\n",
    "from monai.data import MetaTensor\n",
    "from sklearn.model_selection import train_test_split\n",
    "import torch.optim as optim\n",
    "import torch.nn as nn\n",
    "from tqdm import tqdm\n",
    "from torch.cuda.amp import autocast, GradScaler\n",
    "import torch.nn.functional as F\n",
    "from sklearn.model_selection import KFold"
   ]
  },
  {
   "cell_type": "markdown",
   "id": "7a577210-1e78-4562-b2db-890b015581e2",
   "metadata": {
    "tags": [],
    "user_expressions": []
   },
   "source": [
    "## 2 - Define path\n"
   ]
  },
  {
   "cell_type": "code",
   "execution_count": 2,
   "id": "25d0a1e9-2cbe-4184-a7ca-36ea0e0b93a1",
   "metadata": {
    "tags": []
   },
   "outputs": [
    {
     "name": "stdout",
     "output_type": "stream",
     "text": [
      "Congrats! You selected the correct folder :)\n",
      "GPU index: 0\n",
      "GPU name: Tesla T4\n"
     ]
    },
    {
     "name": "stderr",
     "output_type": "stream",
     "text": [
      "\u001b[34m\u001b[1mwandb\u001b[0m: Using wandb-core as the SDK backend.  Please refer to https://wandb.me/wandb-core for more information.\n",
      "\u001b[34m\u001b[1mwandb\u001b[0m: Currently logged in as: \u001b[33mj-e-vleugel\u001b[0m (\u001b[33mj-e-vleugel-university-of-twente\u001b[0m) to \u001b[32mhttps://api.wandb.ai\u001b[0m. Use \u001b[1m`wandb login --relogin`\u001b[0m to force relogin\n"
     ]
    },
    {
     "name": "stdout",
     "output_type": "stream",
     "text": [
      "You are logged in at WanB: True\n",
      "Current working directory: /home/jovyan/Project\n"
     ]
    }
   ],
   "source": [
    "##### CHANGE DATA PATH ACCORDINGLY #####\n",
    "data_path = \"ASOCA\"\n",
    "########################################\n",
    "\n",
    "if not os.path.exists(data_path):\n",
    "    print(\"Please update your data path to an existing folder.\")\n",
    "elif not set([\"Normal\", \"Diseased\"]).issubset(set(os.listdir(data_path))):\n",
    "    print(\"Please update your data path to the correct folder (should contain train, val and test folders).\")\n",
    "else:\n",
    "    print(\"Congrats! You selected the correct folder :)\")\n",
    "    \n",
    "print(f'GPU index: {torch.cuda.current_device()}')  # Prints GPU index\n",
    "print(f'GPU name: {torch.cuda.get_device_name(torch.cuda.current_device())}')  # Prints GPU name\n",
    "print(f'You are logged in at WanB: {wandb.login()}')\n",
    "print(f'Current working directory: {os.getcwd()}') "
   ]
  },
  {
   "cell_type": "markdown",
   "id": "c68d798a-b5b5-49e3-a2df-a74a8830c9eb",
   "metadata": {
    "tags": [],
    "user_expressions": []
   },
   "source": [
    "## 3 - Define load function, custom transform, 3D plot function, WandB logging"
   ]
  },
  {
   "cell_type": "code",
   "execution_count": 3,
   "id": "18fb1252-72c0-4c19-9d80-827275bcb307",
   "metadata": {
    "tags": []
   },
   "outputs": [],
   "source": [
    "def build_dict_asoca(data_path):\n",
    "    \"\"\"\n",
    "    This function returns a list of dictionaries, each containing the keys 'img' and 'label' \n",
    "    with paths to the corresponding NRRD image.\n",
    "    \n",
    "    Args:\n",
    "        data_path (str): Path to the root folder of the ASOCA dataset.\n",
    "        mode (str): Subset used. Must be 'train', 'val', or 'test'.\n",
    "        \n",
    "    Returns:\n",
    "        List[Dict[str, str]]: List of dictionaries containing paths of NRRD images and labels.\n",
    "    \"\"\"\n",
    "    \n",
    "    dicts = []\n",
    "    for label in [\"Diseased\", \"Normal\"]:\n",
    "        image_path = os.path.join(data_path, label,\"CTCA\")        \n",
    "        image_files = glob.glob(os.path.join(image_path, \"*.nrrd\"))\n",
    "        \n",
    "        annotation_path = os.path.join(data_path, label, \"Annotations\")  # Path to annotations\n",
    "        \n",
    "        print(f\"Looking for images in: {image_path}\")\n",
    "        print(f\"Found {len(image_files)} images in {image_path}\")\n",
    "        \n",
    "        for img_path in image_files:\n",
    "            img_name = os.path.basename(img_path)\n",
    "            mask_name = os.path.basename(img_path)\n",
    "            mask_path = os.path.join(annotation_path, mask_name)\n",
    "        \n",
    "            dicts.append({\n",
    "                    'img': img_path,\n",
    "                    'mask': mask_path,\n",
    "                    'label': 1 if label == \"Diseased\" else 0  # 1 for Diseased, 0 for Normal\n",
    "\n",
    "                })\n",
    "    \n",
    "    return dicts\n",
    "\n",
    "class LoadASOCAData(Transform):\n",
    "    \"\"\"\n",
    "    Custom MONAI transform to load ASOCA NRRD images and annotations (masks).\n",
    "    \"\"\"\n",
    "    def __init__(self, keys=None):\n",
    "        pass  # No initialization needed\n",
    "\n",
    "    def __call__(self, sample):\n",
    "        # Load image and mask\n",
    "        img_path = sample['img']\n",
    "        mask_path = sample['mask']\n",
    "        image, _ = nrrd.read(img_path)\n",
    "        mask, _ = nrrd.read(mask_path)\n",
    "\n",
    "        # Add channel dimension (C, H, W, D)\n",
    "        image = np.expand_dims(image, axis=0)  # (1, H, W, D)\n",
    "        mask = np.expand_dims(mask.astype(np.float32), axis=0)  # (1, H, W, D)\n",
    "\n",
    "        # Convert to MetaTensor (with identity affine)\n",
    "        img_tensor = MetaTensor(image, affine=np.eye(4))\n",
    "        mask_tensor = MetaTensor(mask, affine=np.eye(4))\n",
    "\n",
    "        return {\n",
    "            'img': img_tensor,\n",
    "            'mask': mask_tensor,\n",
    "            'label': torch.tensor(sample['label'], dtype=torch.long)\n",
    "        }\n",
    "    \n",
    "class WindowLeveld(MapTransform):\n",
    "    \"\"\"\n",
    "    Custom transform to set window and level.\n",
    "    \"\"\"\n",
    "    def __init__(self, keys, level=200, window=400):  # Alter the W/L here\n",
    "        super().__init__(keys)\n",
    "        self.level = level\n",
    "        self.window = window\n",
    "\n",
    "    def __call__(self, data):\n",
    "        d = dict(data)\n",
    "        min_val = self.level - self.window / 2\n",
    "        max_val = self.level + self.window / 2\n",
    "        \n",
    "        # Apply window-leveling\n",
    "        img = np.clip(d[\"img\"], min_val, max_val)\n",
    "        \n",
    "        # Convert back to MetaTensor while preserving metadata\n",
    "        d[\"img\"] = MetaTensor(img, meta=d[\"img\"].meta)  # Preserve metadata!\n",
    "\n",
    "        return d\n",
    "\n",
    "def mask_to_point_cloud(mask_volume, voxel_spacing=(0.4, 0.4, 0.6)): #aanpassen aan de andere spacing?\n",
    "    \"\"\"\n",
    "    Convert a 3D mask (H, W, D) into a point cloud and apply real-world scaling.\n",
    "\n",
    "    Args:\n",
    "        mask_volume (numpy array): 3D binary mask (H, W, D)\n",
    "        voxel_spacing (tuple): Real-world spacing (x, y, z) in mm\n",
    "    \n",
    "    Returns:\n",
    "        x, y, z (numpy arrays): Scaled coordinates of nonzero voxels\n",
    "    \"\"\"\n",
    "    # Extract nonzero voxel positions\n",
    "    x_idx, y_idx, z_idx = np.where(mask_volume > 0)  \n",
    "    \n",
    "    # Scale voxel positions to real-world dimensions\n",
    "    x = x_idx * voxel_spacing[0]  \n",
    "    y = y_idx * voxel_spacing[1]  \n",
    "    z = z_idx * voxel_spacing[2] \n",
    "    \n",
    "    return x, y, z  # Return scaled coordinates\n",
    "\n",
    "def plot_point_cloud(x, y, z, title=\"3D Mask Point Cloud\"):\n",
    "    \"\"\"\n",
    "    Create a Plotly 3D scatter plot from point cloud data with real-world spacing.\n",
    "\n",
    "    Args:\n",
    "        x, y, z (numpy arrays): Scaled coordinates of nonzero voxels\n",
    "        title (str): Title of the plot\n",
    "    \"\"\"\n",
    "    fig = go.Figure(data=[go.Scatter3d(\n",
    "        x=x, y=y, z=z,\n",
    "        mode='markers',\n",
    "        marker=dict(size=2, opacity=0.8, color=z, colorscale=\"Viridis\")\n",
    "    )])\n",
    "    \n",
    "    fig.update_layout(title=title, scene=dict(\n",
    "        xaxis_title=\"X (mm)\", \n",
    "        yaxis_title=\"Y (mm)\", \n",
    "        zaxis_title=\"Z (mm)\"\n",
    "    ))\n",
    "    \n",
    "    return fig\n",
    "\n",
    "def from_compose_to_list(compose_transform):\n",
    "    return [str(transform) for transform in compose_transform.transforms]\n",
    "\n",
    "def wandb_masks(mask_output, mask_gt):\n",
    "    \"\"\" Format masks for WandB logging. \"\"\"\n",
    "    \n",
    "    if isinstance(mask_output, np.ndarray):\n",
    "        mask_output = torch.tensor(mask_output, dtype=torch.float32)\n",
    "    if isinstance(mask_gt, np.ndarray):\n",
    "        mask_gt = torch.tensor(mask_gt, dtype=torch.float32)\n",
    "    \n",
    "    # Convert to binary segmentation mask\n",
    "    mask_output = torch.sigmoid(mask_output)\n",
    "    mask_output = torch.round(mask_output).squeeze().clone().detach().cpu().numpy()\n",
    "    mask_gt = mask_gt.squeeze().clone().detach().cpu().numpy()\n",
    "\n",
    "    class_labels = {1: 'CTCA'}\n",
    "    return {\n",
    "        'predictions': {'mask_data': mask_output, 'class_labels': class_labels},\n",
    "        'ground_truth': {'mask_data': mask_gt, 'class_labels': class_labels}\n",
    "    }\n",
    "\n",
    "def log_to_wandb(epoch, train_loss, val_loss, batch_data, outputs):\n",
    "    \"\"\" Logs training/validation losses and visualizes predictions in WandB. \"\"\"\n",
    "\n",
    "    log_imgs = []\n",
    "\n",
    "    for i, (img, mask_output, mask_gt) in enumerate(zip(batch_data['img'], outputs, batch_data['mask'])):\n",
    "        depth = img.shape[-1]  # Extract depth\n",
    "        mid_slice_idx = depth // 2  \n",
    "\n",
    "        img_slice = img[0, :, :, mid_slice_idx].clone().detach().cpu().numpy()\n",
    "        mask_output_slice = torch.sigmoid(mask_output[0, :, :, mid_slice_idx]).clone().detach().cpu().numpy()\n",
    "        mask_gt_slice = mask_gt[0, :, :, mid_slice_idx].clone().detach().cpu().numpy()\n",
    "\n",
    "        mask_output_slice = (mask_output_slice > 0.5).astype(np.uint8)\n",
    "        mask_gt_slice = np.round(mask_gt_slice).astype(np.uint8)\n",
    "\n",
    "        # Apply windowing\n",
    "        Level = 250  \n",
    "        window = 500\n",
    "        min_val = Level - (window / 2)\n",
    "        max_val = Level + (window / 2)\n",
    "        img_slice = np.clip(img_slice, min_val, max_val)\n",
    "\n",
    "         # Apply windowing\n",
    "        img_slice = np.clip(img_slice, min_val, max_val)\n",
    "        \n",
    "        # Create a visualization figure\n",
    "        fig, ax = plt.subplots(1, 3, figsize=(12, 4))\n",
    "        ax[0].imshow(img_slice, cmap='gray')\n",
    "        ax[0].set_title(\"Input Image\")\n",
    "        \n",
    "        green_colormap = plt.cm.colors.ListedColormap(['black', 'green'])  # black for 0, green for 1 (or any other color scale)\n",
    "        red_colormap = plt.cm.colors.ListedColormap(['black', 'red'])  # black for 0, red for 1\n",
    "\n",
    "        # Display the ground truth mask with green colormap\n",
    "        ax[1].imshow(mask_gt_slice, cmap=green_colormap)\n",
    "        ax[1].set_title(\"Ground Truth Mask\")\n",
    "\n",
    "        # Display the predicted mask with red colormap\n",
    "        ax[2].imshow(mask_output_slice, cmap=red_colormap)\n",
    "        ax[2].set_title(\"Predicted Mask\")\n",
    "\n",
    "        plt.tight_layout()\n",
    "\n",
    "        # Log the image and segmentation mask to WandB\n",
    "        img_with_mask = wandb.Image(img_slice, masks={\"predictions\": {\"mask_data\": mask_output_slice,\n",
    "                                                       \"class_labels\": {1: \"vessel\"}},\n",
    "                                                      \"ground_truth\": {\"mask_data\": mask_gt_slice,\n",
    "                                                                       \"class_labels\": {1: \"vessel\"}}},\n",
    "            caption=f\"Epoch {epoch}: Sample {i+1} CT Scan and Mask\")\n",
    "\n",
    "        log_imgs.append(img_with_mask)\n",
    "        wandb.log({f\"Prediction Epoch {epoch}\": wandb.Image(fig)})\n",
    "\n",
    "        plt.close(fig)  # Prevent memory leaks\n",
    "        \n",
    "        # Generate 3D point cloud\n",
    "        mask_gt_np = mask_gt.cpu().detach().numpy()[0]\n",
    "        mask_pred_np = mask_output.cpu().detach().numpy()[0]\n",
    "\n",
    "        # Extract point cloud for GT & Predicted masks\n",
    "        x_gt, y_gt, z_gt = mask_to_point_cloud(mask_gt_np)\n",
    "        x_pred, y_pred, z_pred = mask_to_point_cloud(mask_pred_np)\n",
    "        print(f\"ground truth size: {len(x_gt)}\")\n",
    "        print(f\"prediction size: {len(x_pred)}\")\n",
    "        \n",
    "        # Create 3D scatter plot\n",
    "        fig_gt = plot_point_cloud(x_gt, y_gt, z_gt, title=f\"Sample {i+1} Ground Truth\")\n",
    "        fig_pred = plot_point_cloud(x_pred, y_pred, z_pred, title=f\"Sample {i+1} Prediction\")\n",
    "        \n",
    "        # Log 3D point cloud correctly\n",
    "        wandb.log({f\"3D GT Sample {i+1}\": fig_gt})\n",
    "        wandb.log({f\"3D Pred Sample {i+1}\": fig_pred})\n",
    "        \n",
    "        fig_gt.write_html(\"3D_GT_Sample.html\")\n",
    "        fig_pred.write_html(\"3D_Pred_Sample.html\")\n",
    "\n",
    "        # Log the HTML file to Weights & Biases\n",
    "        wandb.log({\n",
    "            \"3D_GT_Sample\": wandb.Html(open(\"3D_GT_Sample.html\", \"r\").read()),\n",
    "            \"3D_Pred_Sample\": wandb.Html(open(\"3D_Pred_Sample.html\", \"r\").read()) })\n",
    "        # The 3D plots are logged to WandB/project/run/files/media/html\n",
    "\n",
    "    # Log all other shit\n",
    "    wandb.log({\n",
    "        'epoch': epoch,\n",
    "        'train_loss': train_loss,\n",
    "        'val_loss': val_loss,\n",
    "        'gradient_norm': torch.nn.utils.clip_grad_norm_(model.parameters(), max_norm=1.0).item(), \n",
    "    })\n"
   ]
  },
  {
   "cell_type": "markdown",
   "id": "aa38d06f-2f7b-4c29-87db-45bbd7388ca1",
   "metadata": {
    "tags": [],
    "user_expressions": []
   },
   "source": [
    "## 4 - Define transforms"
   ]
  },
  {
   "cell_type": "code",
   "execution_count": 8,
   "id": "af322bad-0ae5-4eab-9b3f-37d891d6cf9a",
   "metadata": {
    "tags": []
   },
   "outputs": [],
   "source": [
    "train_transform = Compose([\n",
    "    LoadASOCAData(keys=['img', 'mask']),\n",
    "    ToMetaTensord(keys=['img', 'mask']), \n",
    "    WindowLeveld(keys=['img']),\n",
    "    RandRotated(keys=['img', 'mask'], range_x=np.deg2rad(10), range_y=np.deg2rad(10), range_z=0, prob=0.5),\n",
    "    ScaleIntensityd(keys=['img'], minv=0, maxv=1),\n",
    "    RandCropByPosNegLabeld(keys=['img', 'mask'], label_key = 'mask', spatial_size=(512, 512, 168), pos=1, neg=0, num_samples=1)\n",
    "])\n",
    "\n",
    "val_transform = Compose([\n",
    "    LoadASOCAData(keys=['img', 'mask']),\n",
    "    ToMetaTensord(keys=['img', 'mask']), \n",
    "    WindowLeveld(keys=['img']), \n",
    "    ScaleIntensityd(keys=['img'], minv=0, maxv=1),\n",
    "    RandCropByPosNegLabeld(keys=['img', 'mask'], label_key = 'mask', spatial_size=(512, 512, 168), pos=1, neg=0, num_samples=1)\n",
    "])"
   ]
  },
  {
   "cell_type": "markdown",
   "id": "a4377d7b-1bdf-4c22-a00c-54b846f70023",
   "metadata": {
    "tags": [],
    "user_expressions": []
   },
   "source": [
    "## 5 - Define model, loss function, optimizer and set to GPU"
   ]
  },
  {
   "cell_type": "code",
   "execution_count": 9,
   "id": "5fb84905-9192-40ff-904f-39e629c6c6e9",
   "metadata": {
    "tags": []
   },
   "outputs": [
    {
     "name": "stdout",
     "output_type": "stream",
     "text": [
      "The used device is cuda\n"
     ]
    }
   ],
   "source": [
    "#####\n",
    "model = UNet(\n",
    "    spatial_dims=3,\n",
    "    in_channels=1,  # Grayscale image with 1 channel\n",
    "    out_channels=1,  # Segmentation mask, usually 1 channel for binary segmentation\n",
    "    channels=(16, 32, 64, 128),  # Number of channels in each layer\n",
    "    strides=(2, 2, 1),  # Downsampling and upsampling strides, MAKE SURE THIS MATCHES THE INPUT SIZE, e.g. avoid integers\n",
    "    kernel_size=3  # Kernel size for convolutions\n",
    ")\n",
    "\n",
    "#####\n",
    "# class CombinedLoss(nn.Module):\n",
    "#     def __init__(self, dice_weight=0.5, bce_weight=0.5):\n",
    "#         super(CombinedLoss, self).__init__()\n",
    "#         self.dice_loss = monai.losses.DiceLoss(sigmoid=True)  # Sigmoid applied internally\n",
    "#         self.bce_loss = nn.BCEWithLogitsLoss()  # BCE loss\n",
    "\n",
    "#         # Weighting between losses\n",
    "#         self.dice_weight = dice_weight\n",
    "#         self.bce_weight = bce_weight\n",
    "\n",
    "#     def forward(self, outputs, targets):\n",
    "#         dice = self.dice_loss(outputs, targets)\n",
    "#         bce = self.bce_loss(outputs, targets)\n",
    "#         return self.dice_weight * dice + self.bce_weight * bce\n",
    "\n",
    "#loss_function = FocalLoss()\n",
    "loss_function = DiceLoss(sigmoid=True)\n",
    "#loss_function = CombinedLoss(dice_weight=0.5, bce_weight=0.5)\n",
    "\n",
    "#####\n",
    "optimizer = optim.Adam(model.parameters(), lr=1e-4)\n",
    "\n",
    "#####\n",
    "device = torch.device(\"cuda\" if torch.cuda.is_available() else \"cpu\")\n",
    "print(f'The used device is {device}')\n",
    "\n",
    "model.to(device)\n",
    "torch.cuda.empty_cache()"
   ]
  },
  {
   "cell_type": "markdown",
   "id": "f63c9e1f-5fad-4e50-b8f9-cbd7f1727c70",
   "metadata": {
    "tags": [],
    "user_expressions": []
   },
   "source": [
    "## 6 - Load data"
   ]
  },
  {
   "cell_type": "code",
   "execution_count": 10,
   "id": "ef344a44-a694-4900-b591-765fad1f0d57",
   "metadata": {
    "tags": []
   },
   "outputs": [
    {
     "name": "stdout",
     "output_type": "stream",
     "text": [
      "Looking for images in: ASOCA/Diseased/CTCA\n",
      "Found 20 images in ASOCA/Diseased/CTCA\n",
      "Looking for images in: ASOCA/Normal/CTCA\n",
      "Found 20 images in ASOCA/Normal/CTCA\n"
     ]
    },
    {
     "name": "stderr",
     "output_type": "stream",
     "text": [
      "Loading dataset: 100%|██████████| 32/32 [00:42<00:00,  1.31s/it]\n",
      "Loading dataset: 100%|██████████| 8/8 [00:13<00:00,  1.71s/it]\n"
     ]
    }
   ],
   "source": [
    "##### Load Data #####\n",
    "data_dicts = build_dict_asoca(data_path)\n",
    "\n",
    "# Assuming data_dicts is the list of dictionaries containing your data\n",
    "train_dicts, val_dicts = train_test_split(data_dicts, test_size=0.2, random_state=42) #80/20 split , kfolds an idea in the future?\n",
    "\n",
    "##### Create Datasets and Dataloaders #####\n",
    "train_dataset = CacheDataset(data=train_dicts, transform=train_transform, cache_rate=1, num_workers=4)\n",
    "val_dataset = CacheDataset(data=val_dicts, transform=val_transform, cache_rate=1, num_workers=4)\n",
    "\n",
    "train_dataloader = DataLoader(train_dataset, batch_size=1, shuffle=True)\n",
    "val_dataloader = DataLoader(val_dataset, batch_size=1, shuffle=False)\n"
   ]
  },
  {
   "cell_type": "markdown",
   "id": "d0222d73-2705-4ede-b80c-c53446c7d833",
   "metadata": {
    "tags": [],
    "user_expressions": []
   },
   "source": [
    "## 7 - Train model"
   ]
  },
  {
   "cell_type": "code",
   "execution_count": 11,
   "id": "ea50d6ce-7747-4f26-9586-6c0693fb6825",
   "metadata": {
    "tags": []
   },
   "outputs": [
    {
     "data": {
      "text/html": [
       "Tracking run with wandb version 0.19.7"
      ],
      "text/plain": [
       "<IPython.core.display.HTML object>"
      ]
     },
     "metadata": {},
     "output_type": "display_data"
    },
    {
     "data": {
      "text/html": [
       "Run data is saved locally in <code>/home/jovyan/Project/wandb/run-20250404_140128-5wlo07cs</code>"
      ],
      "text/plain": [
       "<IPython.core.display.HTML object>"
      ]
     },
     "metadata": {},
     "output_type": "display_data"
    },
    {
     "data": {
      "text/html": [
       "Syncing run <strong><a href='https://wandb.ai/j-e-vleugel-university-of-twente/ASOCA/runs/5wlo07cs' target=\"_blank\">simple_unet_training</a></strong> to <a href='https://wandb.ai/j-e-vleugel-university-of-twente/ASOCA' target=\"_blank\">Weights & Biases</a> (<a href='https://wandb.me/developer-guide' target=\"_blank\">docs</a>)<br>"
      ],
      "text/plain": [
       "<IPython.core.display.HTML object>"
      ]
     },
     "metadata": {},
     "output_type": "display_data"
    },
    {
     "data": {
      "text/html": [
       " View project at <a href='https://wandb.ai/j-e-vleugel-university-of-twente/ASOCA' target=\"_blank\">https://wandb.ai/j-e-vleugel-university-of-twente/ASOCA</a>"
      ],
      "text/plain": [
       "<IPython.core.display.HTML object>"
      ]
     },
     "metadata": {},
     "output_type": "display_data"
    },
    {
     "data": {
      "text/html": [
       " View run at <a href='https://wandb.ai/j-e-vleugel-university-of-twente/ASOCA/runs/5wlo07cs' target=\"_blank\">https://wandb.ai/j-e-vleugel-university-of-twente/ASOCA/runs/5wlo07cs</a>"
      ],
      "text/plain": [
       "<IPython.core.display.HTML object>"
      ]
     },
     "metadata": {},
     "output_type": "display_data"
    },
    {
     "name": "stdout",
     "output_type": "stream",
     "text": [
      "Epoch 1/100, Training Loss: 0.9979983828961849, Validation Loss: 0.9975903928279877, Dice: 0.01883127319160849\n",
      "ground truth size: 22857\n",
      "prediction size: 2108911\n",
      "Epoch 2/100, Training Loss: 0.9974648524075747, Validation Loss: 0.9970861747860909, Dice: 0.024918948533013463\n",
      "ground truth size: 22857\n",
      "prediction size: 2007160\n",
      "Epoch 3/100, Training Loss: 0.9970727376639843, Validation Loss: 0.9968727305531502, Dice: 0.02823120984248817\n",
      "ground truth size: 22857\n",
      "prediction size: 1917531\n",
      "Epoch 4/100, Training Loss: 0.9967601876705885, Validation Loss: 0.9965859279036522, Dice: 0.03149171592667699\n",
      "ground truth size: 22857\n",
      "prediction size: 1821272\n",
      "Epoch 5/100, Training Loss: 0.9965281542390585, Validation Loss: 0.9964478686451912, Dice: 0.03402673196978867\n",
      "ground truth size: 17134\n",
      "prediction size: 1481505\n",
      "Epoch 6/100, Training Loss: 0.9962704386562109, Validation Loss: 0.9962017238140106, Dice: 0.03476446005515754\n",
      "ground truth size: 22857\n",
      "prediction size: 1717746\n",
      "Epoch 7/100, Training Loss: 0.9960179757326841, Validation Loss: 0.9959153383970261, Dice: 0.044665422989055514\n",
      "ground truth size: 17134\n",
      "prediction size: 1174839\n",
      "Epoch 8/100, Training Loss: 0.9957246165722609, Validation Loss: 0.9955028370022774, Dice: 0.0470822686329484\n",
      "ground truth size: 22645\n",
      "prediction size: 1216195\n",
      "Epoch 9/100, Training Loss: 0.9955826699733734, Validation Loss: 0.9952251240611076, Dice: 0.05159779777750373\n",
      "ground truth size: 25131\n",
      "prediction size: 1178012\n",
      "Epoch 10/100, Training Loss: 0.9951035995036364, Validation Loss: 0.9948955178260803, Dice: 0.06430643750354648\n",
      "ground truth size: 24392\n",
      "prediction size: 957107\n",
      "Epoch 11/100, Training Loss: 0.9948514811694622, Validation Loss: 0.9945904165506363, Dice: 0.07722788397222757\n",
      "ground truth size: 22857\n",
      "prediction size: 822858\n",
      "Epoch 12/100, Training Loss: 0.9943443182855844, Validation Loss: 0.9942589104175568, Dice: 0.09096586611121893\n",
      "ground truth size: 17134\n",
      "prediction size: 635248\n",
      "Epoch 13/100, Training Loss: 0.9937177710235119, Validation Loss: 0.9938436448574066, Dice: 0.08886841591447592\n",
      "ground truth size: 22857\n",
      "prediction size: 665527\n",
      "Epoch 14/100, Training Loss: 0.993365004658699, Validation Loss: 0.9929011389613152, Dice: 0.10613539256155491\n",
      "ground truth size: 25290\n",
      "prediction size: 565820\n",
      "Epoch 15/100, Training Loss: 0.9931620005518198, Validation Loss: 0.9927252009510994, Dice: 0.11188050452619791\n",
      "ground truth size: 17134\n",
      "prediction size: 447054\n",
      "Epoch 16/100, Training Loss: 0.9921396356076002, Validation Loss: 0.9918490126729012, Dice: 0.12527014780789614\n",
      "ground truth size: 22857\n",
      "prediction size: 459935\n",
      "Epoch 17/100, Training Loss: 0.9915951769798994, Validation Loss: 0.9912260249257088, Dice: 0.12182182725518942\n",
      "ground truth size: 22857\n",
      "prediction size: 472120\n",
      "Epoch 18/100, Training Loss: 0.9906277228146791, Validation Loss: 0.9905203431844711, Dice: 0.16393848042935133\n",
      "ground truth size: 17134\n",
      "prediction size: 292847\n",
      "Epoch 19/100, Training Loss: 0.989619892090559, Validation Loss: 0.9892117753624916, Dice: 0.17383221630007029\n",
      "ground truth size: 17134\n",
      "prediction size: 271923\n",
      "Epoch 20/100, Training Loss: 0.9890032187104225, Validation Loss: 0.9884134978055954, Dice: 0.1922626495361328\n",
      "ground truth size: 22857\n",
      "prediction size: 278720\n",
      "Epoch 21/100, Training Loss: 0.9872241076081991, Validation Loss: 0.9865683689713478, Dice: 0.21805862337350845\n",
      "ground truth size: 17134\n",
      "prediction size: 211539\n",
      "Epoch 22/100, Training Loss: 0.9860470369458199, Validation Loss: 0.9867121800780296, Dice: 0.20817784406244755\n",
      "ground truth size: 17134\n",
      "prediction size: 212715\n",
      "Epoch 23/100, Training Loss: 0.9843150489032269, Validation Loss: 0.9834051802754402, Dice: 0.24595486000180244\n",
      "ground truth size: 22857\n",
      "prediction size: 207133\n",
      "Epoch 24/100, Training Loss: 0.9821340385824442, Validation Loss: 0.9817038252949715, Dice: 0.2688635941594839\n",
      "ground truth size: 17134\n",
      "prediction size: 158878\n",
      "Epoch 25/100, Training Loss: 0.9794367160648108, Validation Loss: 0.9780917391180992, Dice: 0.36667728051543236\n",
      "ground truth size: 25749\n",
      "prediction size: 124991\n",
      "Epoch 26/100, Training Loss: 0.9769579730927944, Validation Loss: 0.975947305560112, Dice: 0.3336390480399132\n",
      "ground truth size: 17134\n",
      "prediction size: 124257\n",
      "Epoch 27/100, Training Loss: 0.9746680650860071, Validation Loss: 0.9739538878202438, Dice: 0.3659485727548599\n",
      "ground truth size: 17134\n",
      "prediction size: 101137\n",
      "Epoch 28/100, Training Loss: 0.9704449772834778, Validation Loss: 0.9697264432907104, Dice: 0.4004836231470108\n",
      "ground truth size: 22857\n",
      "prediction size: 103226\n",
      "Epoch 29/100, Training Loss: 0.9679017551243305, Validation Loss: 0.9671965688467026, Dice: 0.37013448029756546\n",
      "ground truth size: 17134\n",
      "prediction size: 94128\n",
      "Epoch 30/100, Training Loss: 0.9631570409983397, Validation Loss: 0.9618207961320877, Dice: 0.4287896938621998\n",
      "ground truth size: 22857\n",
      "prediction size: 87989\n",
      "Epoch 31/100, Training Loss: 0.9593528769910336, Validation Loss: 0.9555530175566673, Dice: 0.505784347653389\n",
      "ground truth size: 22857\n",
      "prediction size: 67517\n",
      "Epoch 32/100, Training Loss: 0.9529833011329174, Validation Loss: 0.9521306529641151, Dice: 0.43489742279052734\n",
      "ground truth size: 20926\n",
      "prediction size: 80864\n",
      "Epoch 33/100, Training Loss: 0.9507279060781002, Validation Loss: 0.9454520493745804, Dice: 0.5169386118650436\n",
      "ground truth size: 22857\n",
      "prediction size: 64293\n",
      "Epoch 34/100, Training Loss: 0.940017357468605, Validation Loss: 0.9365303814411163, Dice: 0.5227959528565407\n",
      "ground truth size: 25517\n",
      "prediction size: 65119\n",
      "Epoch 35/100, Training Loss: 0.935255691409111, Validation Loss: 0.9322609379887581, Dice: 0.5123892836272717\n",
      "ground truth size: 17134\n",
      "prediction size: 54722\n",
      "Epoch 36/100, Training Loss: 0.9242377262562513, Validation Loss: 0.9277453348040581, Dice: 0.5507552474737167\n",
      "ground truth size: 22857\n",
      "prediction size: 53572\n",
      "Epoch 37/100, Training Loss: 0.9166468940675259, Validation Loss: 0.9102400988340378, Dice: 0.610050693154335\n",
      "ground truth size: 17134\n",
      "prediction size: 45663\n",
      "Epoch 38/100, Training Loss: 0.9041261374950409, Validation Loss: 0.9007103890180588, Dice: 0.6187581717967987\n",
      "ground truth size: 17134\n",
      "prediction size: 41664\n",
      "Epoch 39/100, Training Loss: 0.8935780618339777, Validation Loss: 0.8904334157705307, Dice: 0.589695431292057\n",
      "ground truth size: 25803\n",
      "prediction size: 55790\n",
      "Epoch 40/100, Training Loss: 0.8807625733315945, Validation Loss: 0.8850252851843834, Dice: 0.6412701681256294\n",
      "ground truth size: 17134\n",
      "prediction size: 36324\n",
      "Epoch 41/100, Training Loss: 0.8700753431767225, Validation Loss: 0.8654334545135498, Dice: 0.6077492088079453\n",
      "ground truth size: 22857\n",
      "prediction size: 53369\n",
      "Epoch 42/100, Training Loss: 0.8540352657437325, Validation Loss: 0.8473498672246933, Dice: 0.6978936195373535\n",
      "ground truth size: 19908\n",
      "prediction size: 34535\n",
      "Epoch 43/100, Training Loss: 0.8432572968304157, Validation Loss: 0.8408636599779129, Dice: 0.6089651137590408\n",
      "ground truth size: 17134\n",
      "prediction size: 41509\n",
      "Epoch 44/100, Training Loss: 0.8253253400325775, Validation Loss: 0.8181775137782097, Dice: 0.6648626700043678\n",
      "ground truth size: 22857\n",
      "prediction size: 43940\n",
      "Epoch 45/100, Training Loss: 0.8101585991680622, Validation Loss: 0.8126052618026733, Dice: 0.7213287577033043\n",
      "ground truth size: 17134\n",
      "prediction size: 29370\n",
      "Epoch 46/100, Training Loss: 0.7949404045939445, Validation Loss: 0.7841570675373077, Dice: 0.7006374374032021\n",
      "ground truth size: 17134\n",
      "prediction size: 32046\n",
      "Epoch 47/100, Training Loss: 0.7700192481279373, Validation Loss: 0.7569764629006386, Dice: 0.7526708170771599\n",
      "ground truth size: 22857\n",
      "prediction size: 32414\n",
      "Epoch 48/100, Training Loss: 0.7514968775212765, Validation Loss: 0.7687995210289955, Dice: 0.6439422070980072\n",
      "ground truth size: 17134\n",
      "prediction size: 32815\n",
      "Epoch 49/100, Training Loss: 0.7411948461085558, Validation Loss: 0.7307437434792519, Dice: 0.7392258793115616\n",
      "ground truth size: 22857\n",
      "prediction size: 30841\n",
      "Epoch 50/100, Training Loss: 0.7133005633950233, Validation Loss: 0.7158162891864777, Dice: 0.7479480057954788\n",
      "ground truth size: 22857\n",
      "prediction size: 31397\n",
      "Epoch 51/100, Training Loss: 0.6967397462576628, Validation Loss: 0.7034071832895279, Dice: 0.7196228355169296\n",
      "ground truth size: 24753\n",
      "prediction size: 34251\n",
      "Epoch 52/100, Training Loss: 0.6770432014018297, Validation Loss: 0.687717467546463, Dice: 0.7011532858014107\n",
      "ground truth size: 17134\n",
      "prediction size: 29913\n",
      "Epoch 53/100, Training Loss: 0.6562804225832224, Validation Loss: 0.6676586717367172, Dice: 0.7236876115202904\n",
      "ground truth size: 22857\n",
      "prediction size: 33940\n",
      "Epoch 54/100, Training Loss: 0.6416844874620438, Validation Loss: 0.641800232231617, Dice: 0.7621030434966087\n",
      "ground truth size: 22645\n",
      "prediction size: 24583\n",
      "Epoch 55/100, Training Loss: 0.6229141615331173, Validation Loss: 0.6236051619052887, Dice: 0.7644080370664597\n",
      "ground truth size: 22857\n",
      "prediction size: 29749\n",
      "Epoch 56/100, Training Loss: 0.6166917011141777, Validation Loss: 0.599991500377655, Dice: 0.7606233730912209\n",
      "ground truth size: 25028\n",
      "prediction size: 27675\n",
      "Epoch 57/100, Training Loss: 0.5874610412865877, Validation Loss: 0.5832401886582375, Dice: 0.7793440595269203\n",
      "ground truth size: 22857\n",
      "prediction size: 24045\n",
      "Epoch 58/100, Training Loss: 0.5773539692163467, Validation Loss: 0.5828564092516899, Dice: 0.7306393012404442\n",
      "ground truth size: 22857\n",
      "prediction size: 35373\n",
      "Epoch 59/100, Training Loss: 0.5771758165210485, Validation Loss: 0.5637974739074707, Dice: 0.7463527396321297\n",
      "ground truth size: 17134\n",
      "prediction size: 25099\n",
      "Epoch 60/100, Training Loss: 0.5383635349571705, Validation Loss: 0.5492103025317192, Dice: 0.7604886814951897\n",
      "ground truth size: 17134\n",
      "prediction size: 24239\n",
      "Epoch 61/100, Training Loss: 0.5283674523234367, Validation Loss: 0.5150722414255142, Dice: 0.7769543901085854\n",
      "ground truth size: 25956\n",
      "prediction size: 30280\n",
      "Epoch 62/100, Training Loss: 0.5065144598484039, Validation Loss: 0.5053832456469536, Dice: 0.7770672366023064\n",
      "ground truth size: 22857\n",
      "prediction size: 26492\n",
      "Epoch 63/100, Training Loss: 0.4970357231795788, Validation Loss: 0.509030669927597, Dice: 0.7712799161672592\n",
      "ground truth size: 17134\n",
      "prediction size: 21868\n",
      "Epoch 64/100, Training Loss: 0.4750108662992716, Validation Loss: 0.4701162874698639, Dice: 0.7875432521104813\n",
      "ground truth size: 22857\n",
      "prediction size: 23494\n",
      "Epoch 65/100, Training Loss: 0.47786652855575085, Validation Loss: 0.45873497426509857, Dice: 0.7904608026146889\n",
      "ground truth size: 22857\n",
      "prediction size: 23245\n",
      "Epoch 66/100, Training Loss: 0.4662481751292944, Validation Loss: 0.4625232666730881, Dice: 0.7713881134986877\n",
      "ground truth size: 22857\n",
      "prediction size: 26835\n",
      "Epoch 67/100, Training Loss: 0.44773255474865437, Validation Loss: 0.44872064143419266, Dice: 0.777185246348381\n",
      "ground truth size: 22857\n",
      "prediction size: 22446\n",
      "Epoch 68/100, Training Loss: 0.43118112720549107, Validation Loss: 0.4273563474416733, Dice: 0.7858241498470306\n",
      "ground truth size: 22857\n",
      "prediction size: 26074\n",
      "Epoch 69/100, Training Loss: 0.41811838187277317, Validation Loss: 0.43205662816762924, Dice: 0.7719946056604385\n",
      "ground truth size: 22857\n",
      "prediction size: 25977\n",
      "Epoch 70/100, Training Loss: 0.41501608677208424, Validation Loss: 0.43637215346097946, Dice: 0.7755104228854179\n",
      "ground truth size: 17134\n",
      "prediction size: 18826\n",
      "Epoch 71/100, Training Loss: 0.39666961692273617, Validation Loss: 0.4076007455587387, Dice: 0.7934179827570915\n",
      "ground truth size: 22857\n",
      "prediction size: 26430\n",
      "Epoch 72/100, Training Loss: 0.39509183540940285, Validation Loss: 0.4045517072081566, Dice: 0.7836456000804901\n",
      "ground truth size: 17134\n",
      "prediction size: 15318\n",
      "Epoch 73/100, Training Loss: 0.38673933781683445, Validation Loss: 0.4028388559818268, Dice: 0.7680641561746597\n",
      "ground truth size: 22857\n",
      "prediction size: 23934\n",
      "Epoch 74/100, Training Loss: 0.39233005605638027, Validation Loss: 0.3980546370148659, Dice: 0.7670637965202332\n",
      "ground truth size: 22857\n",
      "prediction size: 26248\n",
      "Epoch 75/100, Training Loss: 0.4018183499574661, Validation Loss: 0.41577325016260147, Dice: 0.7569458708167076\n",
      "ground truth size: 17134\n",
      "prediction size: 19737\n",
      "Epoch 76/100, Training Loss: 0.3698036167770624, Validation Loss: 0.3672679141163826, Dice: 0.7930553629994392\n",
      "ground truth size: 22397\n",
      "prediction size: 24679\n",
      "Epoch 77/100, Training Loss: 0.370240967720747, Validation Loss: 0.36378660798072815, Dice: 0.791251078248024\n",
      "ground truth size: 17134\n",
      "prediction size: 20046\n",
      "Epoch 78/100, Training Loss: 0.35549887269735336, Validation Loss: 0.36156148463487625, Dice: 0.7883275747299194\n",
      "ground truth size: 23126\n",
      "prediction size: 21215\n",
      "Epoch 79/100, Training Loss: 0.32869078032672405, Validation Loss: 0.34756359457969666, Dice: 0.7845521569252014\n",
      "ground truth size: 22857\n",
      "prediction size: 24094\n",
      "Epoch 80/100, Training Loss: 0.3319224901497364, Validation Loss: 0.3451382666826248, Dice: 0.7916770428419113\n",
      "ground truth size: 22857\n",
      "prediction size: 22293\n",
      "Epoch 81/100, Training Loss: 0.33397940546274185, Validation Loss: 0.35390496253967285, Dice: 0.7826144397258759\n",
      "ground truth size: 17134\n",
      "prediction size: 21330\n",
      "Epoch 82/100, Training Loss: 0.33296369574964046, Validation Loss: 0.3439352437853813, Dice: 0.7652263194322586\n",
      "ground truth size: 25668\n",
      "prediction size: 22966\n",
      "Epoch 83/100, Training Loss: 0.3208979684859514, Validation Loss: 0.34214016050100327, Dice: 0.7803987115621567\n",
      "ground truth size: 22857\n",
      "prediction size: 25549\n",
      "Epoch 84/100, Training Loss: 0.30830140225589275, Validation Loss: 0.32104381918907166, Dice: 0.7953666001558304\n",
      "ground truth size: 22857\n",
      "prediction size: 23230\n",
      "Epoch 85/100, Training Loss: 0.31195656582713127, Validation Loss: 0.3277088403701782, Dice: 0.7887018322944641\n",
      "ground truth size: 17134\n",
      "prediction size: 16794\n",
      "Epoch 86/100, Training Loss: 0.30803075060248375, Validation Loss: 0.311234749853611, Dice: 0.8024315014481544\n",
      "ground truth size: 22857\n",
      "prediction size: 23923\n",
      "Epoch 87/100, Training Loss: 0.3052747882902622, Validation Loss: 0.30928073823451996, Dice: 0.7926936447620392\n",
      "ground truth size: 22857\n",
      "prediction size: 24302\n",
      "Epoch 88/100, Training Loss: 0.2991114426404238, Validation Loss: 0.31795795261859894, Dice: 0.7825727164745331\n",
      "ground truth size: 17134\n",
      "prediction size: 15873\n",
      "Epoch 89/100, Training Loss: 0.27521846629679203, Validation Loss: 0.2991805449128151, Dice: 0.7946878224611282\n",
      "ground truth size: 26105\n",
      "prediction size: 22958\n",
      "Epoch 90/100, Training Loss: 0.28522447869181633, Validation Loss: 0.30580922216176987, Dice: 0.7907899171113968\n",
      "ground truth size: 17134\n",
      "prediction size: 18874\n",
      "Epoch 91/100, Training Loss: 0.28728258423507214, Validation Loss: 0.28711122274398804, Dice: 0.8029106259346008\n",
      "ground truth size: 22857\n",
      "prediction size: 23264\n",
      "Epoch 92/100, Training Loss: 0.271227914839983, Validation Loss: 0.28992580622434616, Dice: 0.7978595197200775\n",
      "ground truth size: 24010\n",
      "prediction size: 22512\n",
      "Epoch 93/100, Training Loss: 0.2820382919162512, Validation Loss: 0.2931229695677757, Dice: 0.7893651351332664\n",
      "ground truth size: 17134\n",
      "prediction size: 15148\n",
      "Epoch 94/100, Training Loss: 0.2800360433757305, Validation Loss: 0.29497097432613373, Dice: 0.7746287509799004\n",
      "ground truth size: 22857\n",
      "prediction size: 21074\n",
      "Epoch 95/100, Training Loss: 0.27708967216312885, Validation Loss: 0.2824019715189934, Dice: 0.7997458353638649\n",
      "ground truth size: 22857\n",
      "prediction size: 22625\n",
      "Epoch 96/100, Training Loss: 0.27211347967386246, Validation Loss: 0.28016264736652374, Dice: 0.8027279749512672\n",
      "ground truth size: 22857\n",
      "prediction size: 23356\n",
      "Epoch 97/100, Training Loss: 0.2606837432831526, Validation Loss: 0.26682210713624954, Dice: 0.8110402226448059\n",
      "ground truth size: 22857\n",
      "prediction size: 24485\n",
      "Epoch 98/100, Training Loss: 0.25735499151051044, Validation Loss: 0.28495775163173676, Dice: 0.7841390892863274\n",
      "ground truth size: 22857\n",
      "prediction size: 21349\n",
      "Epoch 99/100, Training Loss: 0.2501054108142853, Validation Loss: 0.2701229229569435, Dice: 0.8072023913264275\n",
      "ground truth size: 22857\n",
      "prediction size: 24778\n",
      "Epoch 100/100, Training Loss: 0.25000027753412724, Validation Loss: 0.277396485209465, Dice: 0.7892212718725204\n",
      "ground truth size: 22857\n",
      "prediction size: 24042\n"
     ]
    },
    {
     "data": {
      "text/html": [],
      "text/plain": [
       "<IPython.core.display.HTML object>"
      ]
     },
     "metadata": {},
     "output_type": "display_data"
    },
    {
     "data": {
      "text/html": [
       "<br>    <style><br>        .wandb-row {<br>            display: flex;<br>            flex-direction: row;<br>            flex-wrap: wrap;<br>            justify-content: flex-start;<br>            width: 100%;<br>        }<br>        .wandb-col {<br>            display: flex;<br>            flex-direction: column;<br>            flex-basis: 100%;<br>            flex: 1;<br>            padding: 10px;<br>        }<br>    </style><br><div class=\"wandb-row\"><div class=\"wandb-col\"><h3>Run history:</h3><br/><table class=\"wandb\"><tr><td>epoch</td><td>▁▁▁▁▁▂▂▂▂▂▃▃▃▃▃▃▃▄▄▄▄▄▄▅▅▅▅▅▅▆▆▆▆▆▆▇▇▇██</td></tr><tr><td>gradient_norm</td><td>▁▁▁▁▁▁▁▁▁▁▁▁▂▂▂▂▃▃▃▃▄▃▄▄▅▅▇█▇▄▄▅▇▅▄▆▆▇▆▇</td></tr><tr><td>train_loss</td><td>████████▇▇▇▇▇▇▆▅▅▅▅▅▄▄▄▃▃▃▃▃▂▂▂▂▂▂▂▂▁▁▁▁</td></tr><tr><td>val_loss</td><td>█████████████████▇▆▆▆▅▅▄▄▃▃▃▂▃▂▂▂▂▂▁▁▁▁▁</td></tr></table><br/></div><div class=\"wandb-col\"><h3>Run summary:</h3><br/><table class=\"wandb\"><tr><td>epoch</td><td>99</td></tr><tr><td>gradient_norm</td><td>2.25247</td></tr><tr><td>train_loss</td><td>0.25</td></tr><tr><td>val_loss</td><td>0.2774</td></tr></table><br/></div></div>"
      ],
      "text/plain": [
       "<IPython.core.display.HTML object>"
      ]
     },
     "metadata": {},
     "output_type": "display_data"
    },
    {
     "data": {
      "text/html": [
       " View run <strong style=\"color:#cdcd00\">simple_unet_training</strong> at: <a href='https://wandb.ai/j-e-vleugel-university-of-twente/ASOCA/runs/5wlo07cs' target=\"_blank\">https://wandb.ai/j-e-vleugel-university-of-twente/ASOCA/runs/5wlo07cs</a><br> View project at: <a href='https://wandb.ai/j-e-vleugel-university-of-twente/ASOCA' target=\"_blank\">https://wandb.ai/j-e-vleugel-university-of-twente/ASOCA</a><br>Synced 5 W&B file(s), 500 media file(s), 0 artifact file(s) and 1 other file(s)"
      ],
      "text/plain": [
       "<IPython.core.display.HTML object>"
      ]
     },
     "metadata": {},
     "output_type": "display_data"
    },
    {
     "data": {
      "text/html": [
       "Find logs at: <code>./wandb/run-20250404_140128-5wlo07cs/logs</code>"
      ],
      "text/plain": [
       "<IPython.core.display.HTML object>"
      ]
     },
     "metadata": {},
     "output_type": "display_data"
    }
   ],
   "source": [
    "run = wandb.init(\n",
    "    project='ASOCA',\n",
    "    name='simple_unet_training',\n",
    "    config={\n",
    "        'loss_function': str(loss_function),\n",
    "        'lr': optimizer.param_groups[0]['lr'],\n",
    "        'train_transform': from_compose_to_list(train_transform),\n",
    "        'val_transform': from_compose_to_list(val_transform),\n",
    "        'batch_size': train_dataloader.batch_size,\n",
    "        'model_name': model.__class__.__name__,\n",
    "        'optimizer': optimizer.__class__.__name__,\n",
    "    },\n",
    "    reinit=True\n",
    ")\n",
    "\n",
    "##### Training Loop #####\n",
    "num_epochs = 100\n",
    "for epoch in range(num_epochs):\n",
    "    model.train()\n",
    "    epoch_loss = 0\n",
    "    for batch_data in train_dataloader:\n",
    "        images = batch_data['img'].to(device).float()\n",
    "        masks = batch_data['mask'].to(device).float()\n",
    "        \n",
    "        optimizer.zero_grad()\n",
    "        outputs = model(images)\n",
    "        \n",
    "        loss = loss_function(outputs, masks)  \n",
    "        loss.backward()\n",
    "        optimizer.step()\n",
    "        \n",
    "        epoch_loss += loss.item()\n",
    "\n",
    "    avg_train_loss = epoch_loss / len(train_dataloader)\n",
    "    \n",
    "    ##### Validation #####\n",
    "    model.eval()\n",
    "    val_loss = 0.0\n",
    "    dice_score = 0.0\n",
    "    num_batches = 0\n",
    "    sample_batch = None  # Store a sample batch for logging\n",
    "    sample_output = None  # Store the corresponding model outputs for logging\n",
    "\n",
    "    dice_metric = monai.metrics.DiceMetric(include_background=False, reduction=\"mean\")\n",
    "\n",
    "    with torch.no_grad():\n",
    "        for batch_data in val_dataloader:\n",
    "            images = batch_data['img'].to(device).float()\n",
    "            masks = batch_data['mask'].to(device).float()\n",
    "            \n",
    "            outputs = model(images)\n",
    "            \n",
    "            loss = loss_function(outputs, masks)\n",
    "            val_loss += loss.item()\n",
    "            \n",
    "            # Ensure binary masks\n",
    "            outputs = (torch.sigmoid(outputs) > 0.8).float()\n",
    "            masks = (masks > 0).float()\n",
    "            \n",
    "            # Compute Dice Score safely\n",
    "            if torch.sum(masks) > 0:  # Ensure non-empty mask\n",
    "                batch_dice = dice_metric(outputs, masks)\n",
    "                if not torch.isnan(batch_dice):\n",
    "                    dice_score += batch_dice.item()\n",
    "                else:\n",
    "                    print(f\"⚠️ Warning: NaN Dice score in batch {num_batches}!\")\n",
    "            else:\n",
    "                print(f\"⚠️ Skipping batch {num_batches}: Empty mask.\")\n",
    "\n",
    "            num_batches += 1\n",
    "            \n",
    "            # Store first batch for visualisation and its outputs\n",
    "            if sample_batch is None:\n",
    "                sample_batch = batch_data  # Store input batch (images, masks)\n",
    "                sample_output = outputs.detach().cpu()  # Store the model's outputs (predictions) for this batch\n",
    "\n",
    "    avg_val_loss = val_loss / num_batches if num_batches > 0 else 0\n",
    "    avg_dice_score = dice_score / num_batches if num_batches > 0 else 0  \n",
    "\n",
    "    print(f\"Epoch {epoch + 1}/{num_epochs}, Training Loss: {avg_train_loss}, Validation Loss: {avg_val_loss}, Dice: {avg_dice_score}\")\n",
    "\n",
    "    # Log to WandB\n",
    "    log_to_wandb(epoch, avg_train_loss, avg_val_loss, sample_batch, sample_output)\n",
    "\n",
    "##### Save Model #####\n",
    "torch.save(model.state_dict(), \"simple_segmentation_model.pth\")\n",
    "wandb.save(\"simple_segmentation_model.pth\")\n",
    "\n",
    "run.finish()"
   ]
  },
  {
   "cell_type": "code",
   "execution_count": 43,
   "id": "c78ed207-d9be-4cab-a880-5d08881364cb",
   "metadata": {
    "tags": []
   },
   "outputs": [
    {
     "name": "stdout",
     "output_type": "stream",
     "text": [
      "Defaulting to user installation because normal site-packages is not writeable\n",
      "Requirement already satisfied: nibabel in /home/jovyan/.local/lib/python3.10/site-packages (5.3.2)\n",
      "Requirement already satisfied: importlib-resources>=5.12 in /home/jovyan/.local/lib/python3.10/site-packages (from nibabel) (6.5.2)\n",
      "Requirement already satisfied: numpy>=1.22 in /usr/local/lib/python3.10/dist-packages (from nibabel) (1.26.4)\n",
      "Requirement already satisfied: packaging>=20 in /usr/local/lib/python3.10/dist-packages (from nibabel) (24.2)\n",
      "Requirement already satisfied: typing-extensions>=4.6 in /usr/local/lib/python3.10/dist-packages (from nibabel) (4.12.2)\n"
     ]
    }
   ],
   "source": [
    "!pip install nibabel\n",
    "import nibabel as nib\n",
    "import numpy as np\n",
    "from monai.data import MetaTensor\n",
    "\n",
    "class LoadASOCADataTest:\n",
    "    \"\"\"\n",
    "    Custom transform for loading ASOCA data in NIfTI format and preserving metadata.\n",
    "    \"\"\"\n",
    "    def __init__(self, keys=None):\n",
    "        self.keys = keys\n",
    "\n",
    "    def __call__(self, sample):\n",
    "        img_path = sample['img']\n",
    "        \n",
    "        # Load the NIfTI image using nibabel\n",
    "        img_data = nib.load(img_path)\n",
    "        \n",
    "        # Get the image data as a NumPy array\n",
    "        image = img_data.get_fdata()\n",
    "\n",
    "        # Expand dimensions if needed (e.g., for channel-first format)\n",
    "        image = np.expand_dims(image, axis=0)  # Shape: (1, H, W, D)\n",
    "\n",
    "        # Create a MetaTensor with image data and affine matrix\n",
    "        img_tensor = MetaTensor(image, affine=img_data.affine)\n",
    "        \n",
    "        return {'img': img_tensor}"
   ]
  },
  {
   "cell_type": "code",
   "execution_count": 44,
   "id": "9c98134c-7d64-454a-9fa3-69296631bc25",
   "metadata": {
    "tags": []
   },
   "outputs": [
    {
     "name": "stderr",
     "output_type": "stream",
     "text": [
      "100%|██████████| 20/20 [00:23<00:00,  1.18s/it]"
     ]
    },
    {
     "name": "stdout",
     "output_type": "stream",
     "text": [
      "Inference complete. Segmentations saved to: ./predictions_nrrd/\n"
     ]
    },
    {
     "name": "stderr",
     "output_type": "stream",
     "text": [
      "\n"
     ]
    }
   ],
   "source": [
    "# import os\n",
    "# import torch\n",
    "# import numpy as np\n",
    "# import nibabel as nib  # You're saving with nib, not nrrd here\n",
    "# from tqdm import tqdm\n",
    "# from monai.transforms import Compose, LoadImage, ScaleIntensityd, CenterSpatialCropd\n",
    "# from monai.data import DataLoader, Dataset\n",
    "\n",
    "# # Configuration\n",
    "# asoca_secret_dir = \"forDLMIA\"\n",
    "# output_dir = \"./predictions_nrrd/\"\n",
    "# device = torch.device(\"cuda\" if torch.cuda.is_available() else \"cpu\")\n",
    "\n",
    "# # Create output folder\n",
    "# os.makedirs(output_dir, exist_ok=True)\n",
    "\n",
    "# # Inference transforms (no cropping or augmentation for test)\n",
    "# test_transform = Compose([\n",
    "#     LoadASOCADataTest(keys=['img']),\n",
    "#     WindowLeveld(keys=['img']),\n",
    "#     ScaleIntensityd(keys=['img'], minv=0, maxv=1),\n",
    "#     CenterSpatialCropd(keys=['img'], roi_size=(512, 512, 168))\n",
    "# ])\n",
    "\n",
    "# # Prepare dataset and dataloader\n",
    "# image_filenames = [f for f in os.listdir(asoca_secret_dir)]\n",
    "# data_dicts = [{\"img\": os.path.join(asoca_secret_dir, fname)} for fname in image_filenames]\n",
    "# dataset = Dataset(data=data_dicts, transform=test_transform)\n",
    "# loader = DataLoader(dataset, batch_size=1, num_workers=4)\n",
    "\n",
    "# # Inference loop\n",
    "# with torch.no_grad():\n",
    "#     for idx, batch in enumerate(tqdm(loader)):\n",
    "#         image = batch[\"img\"].to(device).float()\n",
    "        \n",
    "#         # Model inference\n",
    "#         output = model(image)\n",
    "#         pred = (torch.sigmoid(output) > 0.8).float()\n",
    "#         pred_np = pred.cpu().numpy().astype(np.uint8)[0, 0]\n",
    "\n",
    "#         # Get original filename to use for saving\n",
    "#         fname = os.path.basename(data_dicts[idx]['img'])  # Use the index from the loop\n",
    "#         out_path = os.path.join(output_dir, fname)\n",
    "\n",
    "#         # Save the prediction as NIfTI\n",
    "#         nib.save(nib.Nifti1Image(pred_np, np.eye(4)), out_path)\n",
    "\n",
    "# print(f\"Inference complete. Segmentations saved to: {output_dir}\")\n"
   ]
  },
  {
   "cell_type": "code",
   "execution_count": 46,
   "id": "f57e7beb-acb8-47ca-abe5-293890c10151",
   "metadata": {
    "tags": []
   },
   "outputs": [
    {
     "name": "stdout",
     "output_type": "stream",
     "text": [
      "✅ Saved: predictions_nrrd/1.img_uncropped.nii.gz\n",
      "✅ Saved: predictions_nrrd/10.img_uncropped.nii.gz\n",
      "✅ Saved: predictions_nrrd/11.img_uncropped.nii.gz\n",
      "✅ Saved: predictions_nrrd/12.img_uncropped.nii.gz\n",
      "✅ Saved: predictions_nrrd/13.img_uncropped.nii.gz\n",
      "✅ Saved: predictions_nrrd/14.img_uncropped.nii.gz\n",
      "✅ Saved: predictions_nrrd/15.img_uncropped.nii.gz\n",
      "✅ Saved: predictions_nrrd/16.img_uncropped.nii.gz\n",
      "✅ Saved: predictions_nrrd/17.img_uncropped.nii.gz\n",
      "✅ Saved: predictions_nrrd/18.img_uncropped.nii.gz\n",
      "✅ Saved: predictions_nrrd/19.img_uncropped.nii.gz\n",
      "✅ Saved: predictions_nrrd/2.img_uncropped.nii.gz\n",
      "✅ Saved: predictions_nrrd/20.img_uncropped.nii.gz\n",
      "✅ Saved: predictions_nrrd/3.img_uncropped.nii.gz\n",
      "✅ Saved: predictions_nrrd/4.img_uncropped.nii.gz\n",
      "✅ Saved: predictions_nrrd/5.img_uncropped.nii.gz\n",
      "✅ Saved: predictions_nrrd/6.img_uncropped.nii.gz\n",
      "✅ Saved: predictions_nrrd/7.img_uncropped.nii.gz\n",
      "✅ Saved: predictions_nrrd/8.img_uncropped.nii.gz\n",
      "✅ Saved: predictions_nrrd/9.img_uncropped.nii.gz\n"
     ]
    }
   ],
   "source": [
    "# import os\n",
    "# import nibabel as nib\n",
    "# import numpy as np\n",
    "\n",
    "# def uncrop_to_original(pred_cropped: np.ndarray, original_shape: tuple) -> np.ndarray:\n",
    "#     padded = np.zeros(original_shape, dtype=pred_cropped.dtype)\n",
    "#     crop_shape = pred_cropped.shape\n",
    "#     start = [(o - c) // 2 for o, c in zip(original_shape, crop_shape)]\n",
    "#     end = [start[i] + crop_shape[i] for i in range(3)]\n",
    "#     padded[start[0]:end[0], start[1]:end[1], start[2]:end[2]] = pred_cropped\n",
    "#     return padded\n",
    "\n",
    "# # Paths\n",
    "# pred_dir = 'predictions_nrrd'\n",
    "# gt_dir = 'forDLMIA'\n",
    "# output_dir = 'predictions_nrrd'\n",
    "\n",
    "# # Loop through all prediction files\n",
    "# for fname in sorted(os.listdir(pred_dir)):\n",
    "#     if fname.endswith('.nii.gz') and not fname.endswith('_uncropped.nii.gz'):\n",
    "#         pred_path = os.path.join(pred_dir, fname)\n",
    "#         gt_path = os.path.join(gt_dir, fname)\n",
    "#         output_path = os.path.join(output_dir, fname.replace('.nii.gz', '_uncropped.nii.gz'))\n",
    "\n",
    "#         if not os.path.exists(gt_path):\n",
    "#             print(f\"⚠️ Ground truth not found for: {fname} — skipping.\")\n",
    "#             continue\n",
    "\n",
    "#         # Load images\n",
    "#         pred_img = nib.load(pred_path)\n",
    "#         gt_img = nib.load(gt_path)\n",
    "\n",
    "        pred_cropped = pred_img.get_fdata()\n",
    "#         original_shape = gt_img.shape\n",
    "\n",
    "#         # Uncrop\n",
    "#         pred_uncropped = uncrop_to_original(pred_cropped, original_shape)\n",
    "\n",
    "#         # Save\n",
    "#         pred_nifti = nib.Nifti1Image(pred_uncropped, affine=gt_img.affine)\n",
    "#         nib.save(pred_nifti, output_path)\n",
    "\n",
    "#         print(f\"✅ Saved: {output_path}\")\n"
   ]
  },
  {
   "cell_type": "code",
   "execution_count": 59,
   "id": "189ad11a-4462-4b2a-a31c-fd9da6df907e",
   "metadata": {},
   "outputs": [
    {
     "name": "stderr",
     "output_type": "stream",
     "text": [
      "  5%|▌         | 1/20 [00:08<02:49,  8.90s/it]"
     ]
    },
    {
     "name": "stdout",
     "output_type": "stream",
     "text": [
      "Saved prediction: predictions/1.img.nii.gz\n"
     ]
    },
    {
     "name": "stderr",
     "output_type": "stream",
     "text": [
      " 10%|█         | 2/20 [00:11<01:37,  5.40s/it]"
     ]
    },
    {
     "name": "stdout",
     "output_type": "stream",
     "text": [
      "Saved prediction: predictions/10.img.nii.gz\n"
     ]
    },
    {
     "name": "stderr",
     "output_type": "stream",
     "text": [
      " 15%|█▌        | 3/20 [00:14<01:13,  4.34s/it]"
     ]
    },
    {
     "name": "stdout",
     "output_type": "stream",
     "text": [
      "Saved prediction: predictions/11.img.nii.gz\n"
     ]
    },
    {
     "name": "stderr",
     "output_type": "stream",
     "text": [
      " 20%|██        | 4/20 [00:17<01:00,  3.81s/it]"
     ]
    },
    {
     "name": "stdout",
     "output_type": "stream",
     "text": [
      "Saved prediction: predictions/12.img.nii.gz\n"
     ]
    },
    {
     "name": "stderr",
     "output_type": "stream",
     "text": [
      " 25%|██▌       | 5/20 [00:20<00:51,  3.44s/it]"
     ]
    },
    {
     "name": "stdout",
     "output_type": "stream",
     "text": [
      "Saved prediction: predictions/13.img.nii.gz\n"
     ]
    },
    {
     "name": "stderr",
     "output_type": "stream",
     "text": [
      " 30%|███       | 6/20 [00:23<00:45,  3.26s/it]"
     ]
    },
    {
     "name": "stdout",
     "output_type": "stream",
     "text": [
      "Saved prediction: predictions/14.img.nii.gz\n"
     ]
    },
    {
     "name": "stderr",
     "output_type": "stream",
     "text": [
      " 35%|███▌      | 7/20 [00:25<00:37,  2.90s/it]"
     ]
    },
    {
     "name": "stdout",
     "output_type": "stream",
     "text": [
      "Saved prediction: predictions/15.img.nii.gz\n"
     ]
    },
    {
     "name": "stderr",
     "output_type": "stream",
     "text": [
      " 40%|████      | 8/20 [00:28<00:34,  2.85s/it]"
     ]
    },
    {
     "name": "stdout",
     "output_type": "stream",
     "text": [
      "Saved prediction: predictions/16.img.nii.gz\n"
     ]
    },
    {
     "name": "stderr",
     "output_type": "stream",
     "text": [
      " 45%|████▌     | 9/20 [00:31<00:31,  2.88s/it]"
     ]
    },
    {
     "name": "stdout",
     "output_type": "stream",
     "text": [
      "Saved prediction: predictions/17.img.nii.gz\n"
     ]
    },
    {
     "name": "stderr",
     "output_type": "stream",
     "text": [
      " 50%|█████     | 10/20 [00:33<00:26,  2.65s/it]"
     ]
    },
    {
     "name": "stdout",
     "output_type": "stream",
     "text": [
      "Saved prediction: predictions/18.img.nii.gz\n"
     ]
    },
    {
     "name": "stderr",
     "output_type": "stream",
     "text": [
      " 55%|█████▌    | 11/20 [00:36<00:24,  2.70s/it]"
     ]
    },
    {
     "name": "stdout",
     "output_type": "stream",
     "text": [
      "Saved prediction: predictions/19.img.nii.gz\n"
     ]
    },
    {
     "name": "stderr",
     "output_type": "stream",
     "text": [
      " 60%|██████    | 12/20 [00:39<00:21,  2.75s/it]"
     ]
    },
    {
     "name": "stdout",
     "output_type": "stream",
     "text": [
      "Saved prediction: predictions/2.img.nii.gz\n"
     ]
    },
    {
     "name": "stderr",
     "output_type": "stream",
     "text": [
      " 65%|██████▌   | 13/20 [00:41<00:18,  2.68s/it]"
     ]
    },
    {
     "name": "stdout",
     "output_type": "stream",
     "text": [
      "Saved prediction: predictions/20.img.nii.gz\n"
     ]
    },
    {
     "name": "stderr",
     "output_type": "stream",
     "text": [
      " 70%|███████   | 14/20 [00:44<00:15,  2.65s/it]"
     ]
    },
    {
     "name": "stdout",
     "output_type": "stream",
     "text": [
      "Saved prediction: predictions/3.img.nii.gz\n"
     ]
    },
    {
     "name": "stderr",
     "output_type": "stream",
     "text": [
      " 75%|███████▌  | 15/20 [00:46<00:12,  2.52s/it]"
     ]
    },
    {
     "name": "stdout",
     "output_type": "stream",
     "text": [
      "Saved prediction: predictions/4.img.nii.gz\n"
     ]
    },
    {
     "name": "stderr",
     "output_type": "stream",
     "text": [
      " 80%|████████  | 16/20 [00:48<00:09,  2.29s/it]"
     ]
    },
    {
     "name": "stdout",
     "output_type": "stream",
     "text": [
      "Saved prediction: predictions/5.img.nii.gz\n"
     ]
    },
    {
     "name": "stderr",
     "output_type": "stream",
     "text": [
      " 85%|████████▌ | 17/20 [00:50<00:06,  2.31s/it]"
     ]
    },
    {
     "name": "stdout",
     "output_type": "stream",
     "text": [
      "Saved prediction: predictions/6.img.nii.gz\n"
     ]
    },
    {
     "name": "stderr",
     "output_type": "stream",
     "text": [
      " 90%|█████████ | 18/20 [00:52<00:04,  2.13s/it]"
     ]
    },
    {
     "name": "stdout",
     "output_type": "stream",
     "text": [
      "Saved prediction: predictions/7.img.nii.gz\n"
     ]
    },
    {
     "name": "stderr",
     "output_type": "stream",
     "text": [
      " 95%|█████████▌| 19/20 [00:54<00:02,  2.22s/it]"
     ]
    },
    {
     "name": "stdout",
     "output_type": "stream",
     "text": [
      "Saved prediction: predictions/8.img.nii.gz\n"
     ]
    },
    {
     "name": "stderr",
     "output_type": "stream",
     "text": [
      "100%|██████████| 20/20 [00:57<00:00,  2.30s/it]"
     ]
    },
    {
     "name": "stdout",
     "output_type": "stream",
     "text": [
      "Saved prediction: predictions/9.img.nii.gz\n"
     ]
    },
    {
     "name": "stderr",
     "output_type": "stream",
     "text": [
      "100%|██████████| 20/20 [00:57<00:00,  2.89s/it]"
     ]
    },
    {
     "name": "stdout",
     "output_type": "stream",
     "text": [
      "✅ Inference completed!\n"
     ]
    },
    {
     "name": "stderr",
     "output_type": "stream",
     "text": [
      "\n"
     ]
    }
   ],
   "source": [
    "import os\n",
    "import torch\n",
    "import numpy as np\n",
    "import nibabel as nib\n",
    "from tqdm import tqdm\n",
    "from monai.transforms import (\n",
    "    Compose,\n",
    "    ScaleIntensityRanged,\n",
    ")\n",
    "from monai.inferers import sliding_window_inference\n",
    "from monai.data import Dataset, DataLoader\n",
    "from monai.networks.nets import UNet\n",
    "\n",
    "# ===== Custom transform loader you defined earlier =====\n",
    "\n",
    "\n",
    "# ===== Model setup =====\n",
    "model = UNet(\n",
    "    spatial_dims=3,\n",
    "    in_channels=1,  # Grayscale image with 1 channel\n",
    "    out_channels=1,  # Segmentation mask, usually 1 channel for binary segmentation\n",
    "    channels=(16, 32, 64, 128),  # Number of channels in each layer\n",
    "    strides=(2, 2, 1),  # Downsampling and upsampling strides, MAKE SURE THIS MATCHES THE INPUT SIZE, e.g. avoid integers\n",
    "    kernel_size=3  # Kernel size for convolutions\n",
    ")\n",
    "model.load_state_dict(torch.load(\"simple_segmentation_model.pth\"))\n",
    "device = torch.device(\"cuda\" if torch.cuda.is_available() else \"cpu\")\n",
    "model.to(device)\n",
    "model.eval()\n",
    "\n",
    "# ===== Test data directories =====\n",
    "test_images_dir = \"forDLMIA\"\n",
    "#test_labels_dir = \"path_to_test_labels\"  # Optional — used only for metrics\n",
    "\n",
    "# ===== Gather test image paths =====\n",
    "test_images = sorted([\n",
    "    os.path.join(test_images_dir, f)\n",
    "    for f in os.listdir(test_images_dir)\n",
    "    if f.endswith(\".nii.gz\")\n",
    "])\n",
    "test_labels = sorted([\n",
    "    os.path.join(test_labels_dir, f)\n",
    "    for f in os.listdir(test_labels_dir)\n",
    "    if f.endswith(\".nii.gz\")\n",
    "]) if os.path.exists(test_labels_dir) else None\n",
    "\n",
    "# ===== Dataset dictionary =====\n",
    "if test_labels:\n",
    "    test_data = [{\"img\": img, \"label\": label} for img, label in zip(test_images, test_labels)]\n",
    "else:\n",
    "    test_data = [{\"img\": img} for img in test_images]\n",
    "\n",
    "# ===== Transforms =====\n",
    "test_transforms = Compose([\n",
    "    LoadASOCADataTest(keys=[\"img\"]),\n",
    "    ScaleIntensityRanged(keys=[\"img\"], a_min=0, a_max=400, b_min=0.0, b_max=1.0, clip=True),\n",
    "])\n",
    "\n",
    "# ===== DataLoader =====\n",
    "test_dataset = Dataset(data=test_data, transform=test_transforms)\n",
    "test_loader = DataLoader(test_dataset, batch_size=1, num_workers=4)\n",
    "\n",
    "# ===== Inference parameters =====\n",
    "patch_size = (512, 512, 128)\n",
    "overlap = 0.25\n",
    "output_dir = \"predictions\"\n",
    "os.makedirs(output_dir, exist_ok=True)\n",
    "\n",
    "# ===== Inference loop =====\n",
    "with torch.no_grad():\n",
    "    for i, batch in enumerate(tqdm(test_loader)):\n",
    "        img = batch[\"img\"].to(device).float()\n",
    "\n",
    "        # Sliding window inference\n",
    "        pred = sliding_window_inference(img, patch_size, 4, model)\n",
    "        pred = torch.sigmoid(pred)\n",
    "        pred = (pred > 0.8).float()\n",
    "\n",
    "        # Convert to NumPy (remove batch and channel)\n",
    "        pred_np = pred.cpu().numpy()[0, 0]\n",
    "\n",
    "        # Handle affine safely\n",
    "        affine = batch[\"img\"].affine[0] if hasattr(batch[\"img\"], \"affine\") else np.eye(4)\n",
    "        if affine.shape != (4, 4):\n",
    "            print(f\"Warning: Invalid affine shape {affine.shape}. Using identity.\")\n",
    "            affine = np.eye(4)\n",
    "\n",
    "        # Save prediction\n",
    "        filename = os.path.basename(test_images[i])\n",
    "        save_path = os.path.join(output_dir, filename)\n",
    "        nib.save(nib.Nifti1Image(pred_np, affine), save_path)\n",
    "        print(f\"Saved prediction: {save_path}\")\n",
    "\n",
    "print(\"✅ Inference completed!\")\n"
   ]
  },
  {
   "cell_type": "code",
   "execution_count": 66,
   "id": "b37f5be1-547a-4fac-9aa1-c751f99cabac",
   "metadata": {
    "tags": []
   },
   "outputs": [
    {
     "name": "stdout",
     "output_type": "stream",
     "text": [
      "✅ Zipped folder: predictions_zip.zip\n"
     ]
    }
   ],
   "source": [
    "import shutil\n",
    "\n",
    "# Define the directory and the zip file name\n",
    "folder_to_zip = \"predictions\"\n",
    "zip_filename = \"predictions_zip\"\n",
    "\n",
    "# Create the zip file (will create predictions_zip.zip)\n",
    "shutil.make_archive(zip_filename, 'zip', folder_to_zip)\n",
    "\n",
    "print(f\"✅ Zipped folder: {zip_filename}.zip\")"
   ]
  },
  {
   "cell_type": "code",
   "execution_count": 65,
   "id": "e688d756-8b91-4472-8dfb-f07f9038e96d",
   "metadata": {},
   "outputs": [
    {
     "name": "stdout",
     "output_type": "stream",
     "text": [
      "Visualizing as point cloud: 17.img.nii.gz\n"
     ]
    },
    {
     "data": {
      "image/png": "[encoded data removed]",
      "text/plain": [
       "<Figure size 1000x1000 with 1 Axes>"
      ]
     },
     "metadata": {},
     "output_type": "display_data"
    }
   ],
   "source": [
    "import os\n",
    "import nibabel as nib\n",
    "import numpy as np\n",
    "import matplotlib.pyplot as plt\n",
    "from mpl_toolkits.mplot3d import Axes3D\n",
    "\n",
    "# Load first prediction file\n",
    "pred_dir = \"predictions\"\n",
    "pred_files = sorted([f for f in os.listdir(pred_dir) if f.endswith(\".nii.gz\")])\n",
    "fname = pred_files[8]\n",
    "path = os.path.join(pred_dir, fname)\n",
    "\n",
    "print(f\"Visualizing as point cloud: {fname}\")\n",
    "nii = nib.load(path)\n",
    "data = nii.get_fdata()\n",
    "\n",
    "# Binarize the segmentation\n",
    "mask = (data > 0.5)\n",
    "\n",
    "# Get voxel coordinates in (Z, Y, X) order\n",
    "z, y, x = np.where(mask)\n",
    "\n",
    "# Optional: Flip axes for proper anatomical view\n",
    "# You can toggle these based on how your data appears\n",
    "x = -x  # Flip X (Left-Right)\n",
    "z = -z  # Flip Z (Inferior-Superior)\n",
    "\n",
    "# Plot point cloud\n",
    "fig = plt.figure(figsize=(10, 10))\n",
    "ax = fig.add_subplot(111, projection='3d')\n",
    "ax.scatter(x, y, z, s=1, c='cyan')\n",
    "\n",
    "ax.set_title(f\"3D Point Cloud: {fname}\", fontsize=14)\n",
    "ax.set_xlabel(\"X (Left-Right)\")\n",
    "ax.set_ylabel(\"Y (Posterior-Anterior)\")\n",
    "ax.set_zlabel(\"Z (Inferior-Superior)\")\n",
    "plt.tight_layout()\n",
    "plt.savefig(\"my_segmentation_3d.png\", dpi=300)\n",
    "plt.show()\n",
    "\n"
   ]
  },
  {
   "cell_type": "code",
   "execution_count": 2,
   "id": "2d3db933-8c00-4429-896e-a0318b82ce29",
   "metadata": {
    "tags": []
   },
   "outputs": [
    {
     "ename": "SyntaxError",
     "evalue": "invalid non-printable character U+00A0 (3722038218.py, line 65)",
     "output_type": "error",
     "traceback": [
      "\u001b[0;36m  Cell \u001b[0;32mIn[2], line 65\u001b[0;36m\u001b[0m\n\u001b[0;31m    return fig\u001b[0m\n\u001b[0m    ^\u001b[0m\n\u001b[0;31mSyntaxError\u001b[0m\u001b[0;31m:\u001b[0m invalid non-printable character U+00A0\n"
     ]
    }
   ],
   "source": []
  },
  {
   "cell_type": "code",
   "execution_count": null,
   "id": "48da94a1-d730-4a17-bb4a-2f6e4129c6cc",
   "metadata": {},
   "outputs": [],
   "source": []
  }
 ],
 "metadata": {
  "kernelspec": {
   "display_name": "Python",
   "language": "python",
   "name": "python3"
  },
  "language_info": {
   "codemirror_mode": {
    "name": "ipython",
    "version": 3
   },
   "file_extension": ".py",
   "mimetype": "text/x-python",
   "name": "python",
   "nbconvert_exporter": "python",
   "pygments_lexer": "ipython3",
   "version": "3.10.12"
  }
 },
 "nbformat": 4,
 "nbformat_minor": 5
}
